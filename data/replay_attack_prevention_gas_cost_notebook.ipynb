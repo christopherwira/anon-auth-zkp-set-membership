{
 "cells": [
  {
   "cell_type": "markdown",
   "id": "b9f5086c",
   "metadata": {},
   "source": [
    "# Replay Attack Gas Cost Comparison\n",
    "---\n",
    "Here in this notebook, we provided the detailed gas cost breakdown for each scheme.\n",
    "\n",
    "After investigating the smart contracts provided in the `contracts` directory using Remix IDE, we recorded the remaining gas values at the beginning of each important section in the Solidity files to calculate the cost of each replay attack prevention scheme. \n",
    "\n",
    "We referred the following table as the Remaining Gas Table.\n",
    "\n",
    "***Remaining Gas Table***\n",
    "\n",
    "|**Section**                  |**AnonParking**|**HashAuth**|**PseudoAuth**|**NPAuth**|\n",
    "|:---------------------------:|:-------------:|:----------:|:------------:|:--------:|\n",
    "|Initialization              |62615          |56752       |32352         |30602     |\n",
    "|Beginning                    |37967          |32616       |8216          |6098      |\n",
    "|`authenticate` Function      |37848          |32519       |8119          |6001      |\n",
    "|`checkReplayAttack` Function |37638          |32309       |7909          |5791      |\n",
    "|`verifyProof` Function       |9572           |8807        |5624          |5396      |\n",
    "|`emit` Function                |9339           |8574        |5391          |5163      |\n",
    "|End                          |8168           |7403        |4220          |3992      |\n",
    "\n",
    "We provided the CSV file for the previous table in this directory.\n",
    "\n",
    "## Calculating the Operation Cost Table\n",
    "First of all, we import and transpose the data for easier manipulation inside pandas."
   ]
  },
  {
   "cell_type": "code",
   "execution_count": null,
   "id": "00a68670",
   "metadata": {
    "scrolled": true
   },
   "outputs": [],
   "source": [
    "import pandas as pd\n",
    "remaining_gas_table=pd.read_csv(\"remaining_gas_table.csv\")\n",
    "remaining_gas_table_t = remaining_gas_table.transpose()\n",
    "remaining_gas_table_t.columns = remaining_gas_table_t.iloc[0]\n",
    "remaining_gas = remaining_gas_table_t[1:]\n",
    "remaining_gas.columns.name = 'Scheme'\n",
    "remaining_gas"
   ]
  },
  {
   "cell_type": "markdown",
   "id": "f8192243",
   "metadata": {},
   "source": [
    "After getting the previous table, we calculate the operation cost by calculating the difference of the remaining gas from the function we want to investigate. "
   ]
  },
  {
   "cell_type": "code",
   "execution_count": null,
   "id": "04013a3d",
   "metadata": {},
   "outputs": [],
   "source": [
    "prior_authentication_cost = remaining_gas[\"beginning\"]-remaining_gas[\"authenticate_function\"]\n",
    "authentication_parameter_cost = remaining_gas[\"authenticate_function\"]-remaining_gas[\"checkReplayAttack_function\"]\n",
    "check_replay_attack_cost = remaining_gas[\"checkReplayAttack_function\"]-remaining_gas[\"verifyProof_function\"]\n",
    "verification_cost = remaining_gas[\"verifyProof_function\"]-remaining_gas[\"emit_function\"]\n",
    "emit_cost = remaining_gas[\"emit_function\"]-remaining_gas[\"end\"]\n",
    "operation_cost_table = pd.concat([\n",
    "    prior_authentication_cost,\n",
    "    authentication_parameter_cost,\n",
    "    check_replay_attack_cost,\n",
    "    verification_cost,\n",
    "    emit_cost\n",
    "], axis=1, keys=['prior_authentication','authentication_parameter','check_replay_attack','verification','emit'])\n",
    "operation_cost_table"
   ]
  },
  {
   "cell_type": "markdown",
   "id": "c243c964",
   "metadata": {},
   "source": [
    "Currently, we disregard the difference in the **AnonParking** `prior_authentication` operation cost due to the unknown reason.\n",
    "\n",
    "## Verifying the Gas Cost\n",
    "We summarize the cost of each scheme into the following table:"
   ]
  },
  {
   "cell_type": "code",
   "execution_count": null,
   "id": "98f9ac08",
   "metadata": {},
   "outputs": [],
   "source": [
    "initialization_cost = remaining_gas[\"initialization\"]-remaining_gas[\"beginning\"]\n",
    "execution_cost = operation_cost_table.sum(axis=1)\n",
    "cost_summary_table = pd.concat([initialization_cost, execution_cost], axis=1, keys=['initialization_cost','execution_cost'])\n",
    "cost_summary_table['transaction_cost'] = cost_summary_table.sum(axis=1)\n",
    "cost_summary_table"
   ]
  },
  {
   "cell_type": "markdown",
   "id": "c0d9e928",
   "metadata": {},
   "source": [
    "Comparing this value with the transaction receipt given in the Remix IDE, we concluded that our calculation of operation cost is correct.\n",
    "\n",
    "From this observation, we concluded that the execution costs vary greatly across the schemes. Both **AnonParking** and **HashAuth** scheme have significantly higher gas cost in their execution cost compared to **PseudoAuth** and our scheme, **NPAuth**. \n",
    "\n",
    "Using the operation cost table, we can calculate the operation cost from each scheme. Here we can see that only the `check_replay_attack` operation cost that has significant difference across the scheme. \n",
    "\n",
    "To investigate this reason, we analyzed each function that may contribute to a high gas cost in the `checkReplayAttack` function.\n",
    "\n",
    "## Analyzing the `checkReplayAttack` function cost\n",
    "In this section, we will analyze the major contributor to the high gas cost in each scheme. As we already explained in the paper, write and read operation plays important role on how to reduce the gas cost in the `checkReplayAttack` function. \n",
    "\n",
    "We focused our attention on the following operation due to their high gas cost:\n",
    "- `SSTORE`: writing operation that costs 20,000 gas or 2,900 gas (it is cheaper to rewrite existing variable)\n",
    "- `SLOAD` : reading operation that costs 2100 gas (there are `SLOAD` that costs 100 but we classify this `SLOAD` as a minor operation)\n",
    "\n",
    "We also investigate the hash calculation cost in both **AnonParking** and **HashAuth** scheme to check their contribution in the `checkReplayAttack` function gas cost.\n",
    "\n",
    "We manually check all of the cost inside the `checkReplayAttack` function from each scheme and summarized our findings as the following:\n",
    "- **AnonParking** scheme has: \n",
    "    - 2 `SSTORE` operations which cost 22,900 gas, \n",
    "    - 2 `SLOAD` operations which cost 4,200 gas, and\n",
    "    - Hash Calculation which costs 472 gas.\n",
    "- **HashAuth** scheme has:\n",
    "    - 1 `SSTORE` operation which costs 20,000 gas,\n",
    "    - 1 `SLOAD` operation which costs 2,100 gas, and\n",
    "    - Hash Calculation which costs 442 gas.\n",
    "- **PseudoAuth** scheme has:\n",
    "    - 1 `SLOAD` operation which costs 2,100 gas.\n",
    "\n",
    "Our **NPAuth** scheme doesn't have any of these high cost operation, thus has a major difference in its `checkReplayAttack` function gas cost.\n",
    "\n",
    "We processed these findings into the following table:"
   ]
  },
  {
   "cell_type": "code",
   "execution_count": null,
   "id": "04939fb5",
   "metadata": {},
   "outputs": [],
   "source": [
    "check_replay_attack_cost_table=pd.read_csv(\"check_replay_attack_cost_table.csv\")\n",
    "check_replay_attack_cost_table_t = check_replay_attack_cost_table.transpose()\n",
    "check_replay_attack_cost_table_t.columns = check_replay_attack_cost_table_t.iloc[0]\n",
    "check_replay_attack_cost = check_replay_attack_cost_table_t[1:]\n",
    "check_replay_attack_cost"
   ]
  },
  {
   "cell_type": "markdown",
   "id": "d81b63ba",
   "metadata": {},
   "source": [
    "To complete our table, we calculate the minor operation gas cost by substracting the `check_replay_attack` gas cost value on the Operation Cost Table with the sum of the check replay attack cost table.\n",
    "\n",
    "We finished our table with the following calculation:"
   ]
  },
  {
   "cell_type": "code",
   "execution_count": null,
   "id": "64e0b88d",
   "metadata": {},
   "outputs": [],
   "source": [
    "major_check_replay_attack_cost= check_replay_attack_cost.sum(axis=1)\n",
    "minor_operation_cost = operation_cost_table['check_replay_attack']-major_check_replay_attack_cost\n",
    "minor_operation_cost.name = 'Minor Operation'\n",
    "total_replay_attack_cost = operation_cost_table['check_replay_attack']\n",
    "total_replay_attack_cost.name = 'Total Replay Attack Cost'\n",
    "complete_check_replay_attack_cost_table = pd.concat(\n",
    "    [\n",
    "        check_replay_attack_cost,\n",
    "        minor_operation_cost,\n",
    "        total_replay_attack_cost\n",
    "    ]\n",
    "    ,axis=1)\n",
    "complete_check_replay_attack_cost_table_t = complete_check_replay_attack_cost_table.transpose()\n",
    "complete_check_replay_attack_cost_table_t"
   ]
  },
  {
   "cell_type": "markdown",
   "id": "3881c1bb",
   "metadata": {},
   "source": [
    "The previous table is the table that we published on our paper with the name of Replay Attack Prevention Gas Cost Comparison."
   ]
  }
 ],
 "metadata": {
  "kernelspec": {
   "display_name": "Python 3 (ipykernel)",
   "language": "python",
   "name": "python3"
  },
  "language_info": {
   "codemirror_mode": {
    "name": "ipython",
    "version": 3
   },
   "file_extension": ".py",
   "mimetype": "text/x-python",
   "name": "python",
   "nbconvert_exporter": "python",
   "pygments_lexer": "ipython3",
   "version": "3.9.12"
  }
 },
 "nbformat": 4,
 "nbformat_minor": 5
}
